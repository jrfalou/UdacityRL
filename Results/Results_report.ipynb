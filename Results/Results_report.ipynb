{
 "cells": [
  {
   "cell_type": "markdown",
   "metadata": {},
   "source": [
    "# Navigation project"
   ]
  },
  {
   "cell_type": "markdown",
   "metadata": {},
   "source": [
    "## 1. Models tested\n",
    "\n",
    "We tried and trained different DQN parametrizations:\n",
    "- simple DQN algo\n",
    "- double DQN algo\n",
    "- simple DQN algo with priority sampling\n",
    "\n",
    "For each we tried to train with different set of parameters:\n",
    "- simple DQN algo: epsilon decay for values [0.994, 0.995, 0.996, 0.997]\n",
    "- double DQN algo: epsilon decay for values [0.994, 0.995, 0.996, 0.997]\n",
    "- simple DQN algo with priority sampling: [prio_a x prio_b] for values [[0., 1.] x [0., 1.]] (0.1 steps)"
   ]
  },
  {
   "cell_type": "markdown",
   "metadata": {},
   "source": [
    "### Notation\n",
    "\n",
    "A Simple or Double DQN model will be identified by the following string: \n",
    "\"[dqn_type]_[neural_network_fully_connected_hidden_layers]_[epsilon_decay]\"\n",
    "\n",
    "A priority sampling model will add \"[prio_a]_[prio_b]\"\n",
    "\n",
    "For instance \"simple_[32; 32]_0.994\" designates a simple DQN algo, trained with a neural network composed of 2 hidden layers fully connected of 32 nodes each, using a epsilon decay every episode of 0.994"
   ]
  },
  {
   "cell_type": "code",
   "execution_count": 1,
   "metadata": {},
   "outputs": [],
   "source": [
    "%load_ext autoreload\n",
    "%autoreload 2"
   ]
  },
  {
   "cell_type": "code",
   "execution_count": 2,
   "metadata": {},
   "outputs": [],
   "source": [
    "import results_analysis"
   ]
  },
  {
   "cell_type": "code",
   "execution_count": 5,
   "metadata": {},
   "outputs": [],
   "source": [
    "#Get results from 'results.csv'\n",
    "#results_df: full dataframe of results\n",
    "#solved_df: nb of episodes to reach 14 reward over last 100 episodes\n",
    "#tops_df: fastest models to solve environment\n",
    "results_df, solved_df, tops_df = results_analysis.get_results_df(tops_nb=5)"
   ]
  },
  {
   "cell_type": "markdown",
   "metadata": {},
   "source": [
    "## 2. Fastest models"
   ]
  },
  {
   "cell_type": "code",
   "execution_count": 6,
   "metadata": {},
   "outputs": [
    {
     "data": {
      "text/html": [
       "<div>\n",
       "<style scoped>\n",
       "    .dataframe tbody tr th:only-of-type {\n",
       "        vertical-align: middle;\n",
       "    }\n",
       "\n",
       "    .dataframe tbody tr th {\n",
       "        vertical-align: top;\n",
       "    }\n",
       "\n",
       "    .dataframe thead th {\n",
       "        text-align: right;\n",
       "    }\n",
       "</style>\n",
       "<table border=\"1\" class=\"dataframe\">\n",
       "  <thead>\n",
       "    <tr style=\"text-align: right;\">\n",
       "      <th></th>\n",
       "      <th>episode</th>\n",
       "    </tr>\n",
       "    <tr>\n",
       "      <th>model</th>\n",
       "      <th></th>\n",
       "    </tr>\n",
       "  </thead>\n",
       "  <tbody>\n",
       "    <tr>\n",
       "      <th>double_[64; 64; 64]_0.994</th>\n",
       "      <td>455</td>\n",
       "    </tr>\n",
       "    <tr>\n",
       "      <th>prio_[64; 64; 64]_0.995_0.0_0.1</th>\n",
       "      <td>483</td>\n",
       "    </tr>\n",
       "    <tr>\n",
       "      <th>simple_[32; 32; 32]_0.994</th>\n",
       "      <td>496</td>\n",
       "    </tr>\n",
       "    <tr>\n",
       "      <th>simple_[64; 64; 64]_0.994</th>\n",
       "      <td>505</td>\n",
       "    </tr>\n",
       "    <tr>\n",
       "      <th>simple_[64; 64]_0.994</th>\n",
       "      <td>506</td>\n",
       "    </tr>\n",
       "  </tbody>\n",
       "</table>\n",
       "</div>"
      ],
      "text/plain": [
       "                                 episode\n",
       "model                                   \n",
       "double_[64; 64; 64]_0.994            455\n",
       "prio_[64; 64; 64]_0.995_0.0_0.1      483\n",
       "simple_[32; 32; 32]_0.994            496\n",
       "simple_[64; 64; 64]_0.994            505\n",
       "simple_[64; 64]_0.994                506"
      ]
     },
     "metadata": {},
     "output_type": "display_data"
    }
   ],
   "source": [
    "#print tops_df\n",
    "display(tops_df)"
   ]
  },
  {
   "cell_type": "code",
   "execution_count": 7,
   "metadata": {},
   "outputs": [
    {
     "data": {
      "text/html": [
       "<div>\n",
       "<style scoped>\n",
       "    .dataframe tbody tr th:only-of-type {\n",
       "        vertical-align: middle;\n",
       "    }\n",
       "\n",
       "    .dataframe tbody tr th {\n",
       "        vertical-align: top;\n",
       "    }\n",
       "\n",
       "    .dataframe thead th {\n",
       "        text-align: right;\n",
       "    }\n",
       "</style>\n",
       "<table border=\"1\" class=\"dataframe\">\n",
       "  <thead>\n",
       "    <tr style=\"text-align: right;\">\n",
       "      <th></th>\n",
       "      <th>double_[64; 64; 64]_0.994</th>\n",
       "      <th>prio_[64; 64; 64]_0.995_0.0_0.1</th>\n",
       "      <th>simple_[32; 32; 32]_0.994</th>\n",
       "      <th>simple_[64; 64; 64]_0.994</th>\n",
       "      <th>simple_[64; 64]_0.994</th>\n",
       "    </tr>\n",
       "  </thead>\n",
       "  <tbody>\n",
       "    <tr>\n",
       "      <th>100</th>\n",
       "      <td>1.22</td>\n",
       "      <td>0.81</td>\n",
       "      <td>1.31</td>\n",
       "      <td>0.73</td>\n",
       "      <td>0.91</td>\n",
       "    </tr>\n",
       "    <tr>\n",
       "      <th>200</th>\n",
       "      <td>3.05</td>\n",
       "      <td>4.99</td>\n",
       "      <td>4.93</td>\n",
       "      <td>3.58</td>\n",
       "      <td>3.89</td>\n",
       "    </tr>\n",
       "    <tr>\n",
       "      <th>300</th>\n",
       "      <td>8.23</td>\n",
       "      <td>7.51</td>\n",
       "      <td>8.61</td>\n",
       "      <td>7.28</td>\n",
       "      <td>7.65</td>\n",
       "    </tr>\n",
       "    <tr>\n",
       "      <th>400</th>\n",
       "      <td>11.82</td>\n",
       "      <td>11.81</td>\n",
       "      <td>12.27</td>\n",
       "      <td>11.47</td>\n",
       "      <td>10.98</td>\n",
       "    </tr>\n",
       "    <tr>\n",
       "      <th>500</th>\n",
       "      <td>14.00</td>\n",
       "      <td>14.00</td>\n",
       "      <td>14.00</td>\n",
       "      <td>13.79</td>\n",
       "      <td>13.91</td>\n",
       "    </tr>\n",
       "    <tr>\n",
       "      <th>600</th>\n",
       "      <td>14.00</td>\n",
       "      <td>14.00</td>\n",
       "      <td>14.00</td>\n",
       "      <td>14.00</td>\n",
       "      <td>14.00</td>\n",
       "    </tr>\n",
       "    <tr>\n",
       "      <th>700</th>\n",
       "      <td>14.00</td>\n",
       "      <td>14.00</td>\n",
       "      <td>14.00</td>\n",
       "      <td>14.00</td>\n",
       "      <td>14.00</td>\n",
       "    </tr>\n",
       "    <tr>\n",
       "      <th>800</th>\n",
       "      <td>14.00</td>\n",
       "      <td>14.00</td>\n",
       "      <td>14.00</td>\n",
       "      <td>14.00</td>\n",
       "      <td>14.00</td>\n",
       "    </tr>\n",
       "    <tr>\n",
       "      <th>900</th>\n",
       "      <td>14.00</td>\n",
       "      <td>14.00</td>\n",
       "      <td>14.00</td>\n",
       "      <td>14.00</td>\n",
       "      <td>14.00</td>\n",
       "    </tr>\n",
       "    <tr>\n",
       "      <th>1000</th>\n",
       "      <td>14.00</td>\n",
       "      <td>14.00</td>\n",
       "      <td>14.00</td>\n",
       "      <td>14.00</td>\n",
       "      <td>14.00</td>\n",
       "    </tr>\n",
       "  </tbody>\n",
       "</table>\n",
       "</div>"
      ],
      "text/plain": [
       "      double_[64; 64; 64]_0.994  prio_[64; 64; 64]_0.995_0.0_0.1  \\\n",
       "100                        1.22                             0.81   \n",
       "200                        3.05                             4.99   \n",
       "300                        8.23                             7.51   \n",
       "400                       11.82                            11.81   \n",
       "500                       14.00                            14.00   \n",
       "600                       14.00                            14.00   \n",
       "700                       14.00                            14.00   \n",
       "800                       14.00                            14.00   \n",
       "900                       14.00                            14.00   \n",
       "1000                      14.00                            14.00   \n",
       "\n",
       "      simple_[32; 32; 32]_0.994  simple_[64; 64; 64]_0.994  \\\n",
       "100                        1.31                       0.73   \n",
       "200                        4.93                       3.58   \n",
       "300                        8.61                       7.28   \n",
       "400                       12.27                      11.47   \n",
       "500                       14.00                      13.79   \n",
       "600                       14.00                      14.00   \n",
       "700                       14.00                      14.00   \n",
       "800                       14.00                      14.00   \n",
       "900                       14.00                      14.00   \n",
       "1000                      14.00                      14.00   \n",
       "\n",
       "      simple_[64; 64]_0.994  \n",
       "100                    0.91  \n",
       "200                    3.89  \n",
       "300                    7.65  \n",
       "400                   10.98  \n",
       "500                   13.91  \n",
       "600                   14.00  \n",
       "700                   14.00  \n",
       "800                   14.00  \n",
       "900                   14.00  \n",
       "1000                  14.00  "
      ]
     },
     "execution_count": 7,
     "metadata": {},
     "output_type": "execute_result"
    },
    {
     "data": {
      "image/png": "[encoded data removed]",
      "text/plain": [
       "<Figure size 1080x360 with 1 Axes>"
      ]
     },
     "metadata": {
      "needs_background": "light"
     },
     "output_type": "display_data"
    }
   ],
   "source": [
    "#Plot fastest models\n",
    "results_analysis.plot_results(results_df, tops_df.index)"
   ]
  },
  {
   "cell_type": "markdown",
   "metadata": {},
   "source": [
    "## 3. Per model type (simple, double, prio) "
   ]
  },
  {
   "cell_type": "code",
   "execution_count": 8,
   "metadata": {},
   "outputs": [
    {
     "data": {
      "text/html": [
       "<div>\n",
       "<style scoped>\n",
       "    .dataframe tbody tr th:only-of-type {\n",
       "        vertical-align: middle;\n",
       "    }\n",
       "\n",
       "    .dataframe tbody tr th {\n",
       "        vertical-align: top;\n",
       "    }\n",
       "\n",
       "    .dataframe thead th {\n",
       "        text-align: right;\n",
       "    }\n",
       "</style>\n",
       "<table border=\"1\" class=\"dataframe\">\n",
       "  <thead>\n",
       "    <tr style=\"text-align: right;\">\n",
       "      <th></th>\n",
       "      <th>double</th>\n",
       "      <th>prio</th>\n",
       "      <th>simple</th>\n",
       "    </tr>\n",
       "  </thead>\n",
       "  <tbody>\n",
       "    <tr>\n",
       "      <th>100</th>\n",
       "      <td>0.800625</td>\n",
       "      <td>0.616300</td>\n",
       "      <td>0.586250</td>\n",
       "    </tr>\n",
       "    <tr>\n",
       "      <th>200</th>\n",
       "      <td>3.803750</td>\n",
       "      <td>3.230300</td>\n",
       "      <td>3.319375</td>\n",
       "    </tr>\n",
       "    <tr>\n",
       "      <th>300</th>\n",
       "      <td>6.762500</td>\n",
       "      <td>6.450900</td>\n",
       "      <td>6.395000</td>\n",
       "    </tr>\n",
       "    <tr>\n",
       "      <th>400</th>\n",
       "      <td>9.406875</td>\n",
       "      <td>9.394400</td>\n",
       "      <td>9.507500</td>\n",
       "    </tr>\n",
       "    <tr>\n",
       "      <th>500</th>\n",
       "      <td>11.948125</td>\n",
       "      <td>12.098700</td>\n",
       "      <td>11.875000</td>\n",
       "    </tr>\n",
       "    <tr>\n",
       "      <th>600</th>\n",
       "      <td>13.244375</td>\n",
       "      <td>13.656832</td>\n",
       "      <td>13.206250</td>\n",
       "    </tr>\n",
       "    <tr>\n",
       "      <th>700</th>\n",
       "      <td>13.648750</td>\n",
       "      <td>13.987900</td>\n",
       "      <td>13.650000</td>\n",
       "    </tr>\n",
       "    <tr>\n",
       "      <th>800</th>\n",
       "      <td>13.824375</td>\n",
       "      <td>14.000000</td>\n",
       "      <td>13.903125</td>\n",
       "    </tr>\n",
       "    <tr>\n",
       "      <th>900</th>\n",
       "      <td>13.973125</td>\n",
       "      <td>14.000000</td>\n",
       "      <td>14.000000</td>\n",
       "    </tr>\n",
       "    <tr>\n",
       "      <th>1000</th>\n",
       "      <td>14.000000</td>\n",
       "      <td>14.000000</td>\n",
       "      <td>14.000000</td>\n",
       "    </tr>\n",
       "  </tbody>\n",
       "</table>\n",
       "</div>"
      ],
      "text/plain": [
       "         double       prio     simple\n",
       "100    0.800625   0.616300   0.586250\n",
       "200    3.803750   3.230300   3.319375\n",
       "300    6.762500   6.450900   6.395000\n",
       "400    9.406875   9.394400   9.507500\n",
       "500   11.948125  12.098700  11.875000\n",
       "600   13.244375  13.656832  13.206250\n",
       "700   13.648750  13.987900  13.650000\n",
       "800   13.824375  14.000000  13.903125\n",
       "900   13.973125  14.000000  14.000000\n",
       "1000  14.000000  14.000000  14.000000"
      ]
     },
     "execution_count": 8,
     "metadata": {},
     "output_type": "execute_result"
    },
    {
     "data": {
      "image/png": "[encoded data removed]",
      "text/plain": [
       "<Figure size 1080x360 with 1 Axes>"
      ]
     },
     "metadata": {
      "needs_background": "light"
     },
     "output_type": "display_data"
    }
   ],
   "source": [
    "results_analysis.plot_results_per_model_type(results_df)"
   ]
  },
  {
   "cell_type": "markdown",
   "metadata": {},
   "source": [
    "## Conclusion\n",
    "All models perform comparably; I was not really able to identidy which one would be the best to use.\n",
    "Still, I decided to select the double_[64; 64; 64]_0.994 model as it was the fastest one to train for me and it behaves reasonably well when tested in the banana environment"
   ]
  },
  {
   "cell_type": "code",
   "execution_count": 1,
   "metadata": {},
   "outputs": [],
   "source": [
    "import os \n",
    "\n",
    "#You need to be at the root directory of the repo to run the model in the next cell\n",
    "os.chdir('..')\n",
    "print(os.getcwd())"
   ]
  },
  {
   "cell_type": "code",
   "execution_count": null,
   "metadata": {},
   "outputs": [
    {
     "name": "stderr",
     "output_type": "stream",
     "text": [
      "INFO:unityagents:\n",
      "'Academy' started successfully!\n",
      "Unity Academy name: Academy\n",
      "        Number of Brains: 1\n",
      "        Number of External Brains : 1\n",
      "        Lesson number : 0\n",
      "        Reset Parameters :\n",
      "\t\t\n",
      "Unity brain name: BananaBrain\n",
      "        Number of Visual Observations (per agent): 0\n",
      "        Vector Observation space type: continuous\n",
      "        Vector Observation space size (per agent): 37\n",
      "        Number of stacked Vector Observation: 1\n",
      "        Vector Action space type: discrete\n",
      "        Vector Action space size (per agent): 4\n",
      "        Vector Action descriptions: , , , \n"
     ]
    },
    {
     "name": "stdout",
     "output_type": "stream",
     "text": [
      "Create NN with layers: [(37, 64), (64, 64), (64, 64), (64, 4)]\n",
      "Create NN with layers: [(37, 64), (64, 64), (64, 64), (64, 4)]\n",
      "Load model weights ./ModelWeights/simple_[64, 64, 64]_0.994.pth\n",
      "Score: 21.0Create NN with layers: [(37, 64), (64, 64), (64, 64), (64, 4)]\n",
      "Create NN with layers: [(37, 64), (64, 64), (64, 64), (64, 4)]\n",
      "Load model weights ./ModelWeights/simple_[64, 64, 64]_0.995.pth\n",
      "Score: 3.0"
     ]
    }
   ],
   "source": [
    "#If you get the \"handle is closed\" error, you need to restart your kernel; I don't know how to fix that\n",
    "%run -i navigation.py test --test_params=training_params.json --test_model=\"auto\" --test_no_display"
   ]
  },
  {
   "cell_type": "code",
   "execution_count": null,
   "metadata": {},
   "outputs": [],
   "source": []
  }
 ],
 "metadata": {
  "kernelspec": {
   "display_name": "Python 3",
   "language": "python",
   "name": "python3"
  },
  "language_info": {
   "codemirror_mode": {
    "name": "ipython",
    "version": 3
   },
   "file_extension": ".py",
   "mimetype": "text/x-python",
   "name": "python",
   "nbconvert_exporter": "python",
   "pygments_lexer": "ipython3",
   "version": "3.6.9"
  }
 },
 "nbformat": 4,
 "nbformat_minor": 2
}
