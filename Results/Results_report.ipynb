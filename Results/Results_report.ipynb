{
 "cells": [
  {
   "cell_type": "markdown",
   "metadata": {},
   "source": [
    "# Navigation project"
   ]
  },
  {
   "cell_type": "markdown",
   "metadata": {},
   "source": [
    "## 1. Models tested\n",
    "\n",
    "We tried and trained different DQN parametrizations:\n",
    "- simple DQN algo\n",
    "- double DQN algo\n",
    "- simple DQN algo with priority sampling\n",
    "\n",
    "For each we tried to train with different set of parameters:\n",
    "- simple DQN algo: epsilon decay for values [0.994, 0.995, 0.996, 0.997]\n",
    "- double DQN algo: epsilon decay for values [0.994, 0.995, 0.996, 0.997]\n",
    "- simple DQN algo with priority sampling: [prio_a x prio_b] for values [[0., 1.] x [0., 1.]] (0.1 steps)"
   ]
  },
  {
   "cell_type": "markdown",
   "metadata": {},
   "source": [
    "### Notation\n",
    "\n",
    "A Simple or Double DQN model will be identified by the following string: \n",
    "\"[dqn_type]_[neural_network_fully_connected_hidden_layers]_[epsilon_decay]\"\n",
    "\n",
    "A priority sampling model will add \"[prio_a]_[prio_b]\"\n",
    "\n",
    "For instance \"simple_[32; 32]_0.994\" designates a simple DQN algo, trained with a neural network composed of 2 hidden layers fully connected of 32 nodes each, using a epsilon decay every episode of 0.994"
   ]
  },
  {
   "cell_type": "code",
   "execution_count": 1,
   "metadata": {},
   "outputs": [],
   "source": [
    "%load_ext autoreload\n",
    "%autoreload 2"
   ]
  },
  {
   "cell_type": "code",
   "execution_count": 2,
   "metadata": {},
   "outputs": [],
   "source": [
    "import results_analysis"
   ]
  },
  {
   "cell_type": "markdown",
   "metadata": {},
   "source": [
    "## 2. Training results"
   ]
  },
  {
   "cell_type": "code",
   "execution_count": 3,
   "metadata": {},
   "outputs": [],
   "source": [
    "#Get results from 'train_results.csv'\n",
    "#results_df: full dataframe of results\n",
    "#solved_df: nb of episodes to reach 14 reward over last 100 episodes\n",
    "#tops_df: fastest models to solve environment\n",
    "results_df, solved_df, tops_df = results_analysis.get_training_results_df(results_file='train_results.csv', tops_nb=5)"
   ]
  },
  {
   "cell_type": "markdown",
   "metadata": {},
   "source": [
    "### 2.1 Fastest trained models"
   ]
  },
  {
   "cell_type": "code",
   "execution_count": 4,
   "metadata": {},
   "outputs": [
    {
     "data": {
      "text/html": [
       "<div>\n",
       "<style scoped>\n",
       "    .dataframe tbody tr th:only-of-type {\n",
       "        vertical-align: middle;\n",
       "    }\n",
       "\n",
       "    .dataframe tbody tr th {\n",
       "        vertical-align: top;\n",
       "    }\n",
       "\n",
       "    .dataframe thead th {\n",
       "        text-align: right;\n",
       "    }\n",
       "</style>\n",
       "<table border=\"1\" class=\"dataframe\">\n",
       "  <thead>\n",
       "    <tr style=\"text-align: right;\">\n",
       "      <th></th>\n",
       "      <th>episode</th>\n",
       "    </tr>\n",
       "    <tr>\n",
       "      <th>model</th>\n",
       "      <th></th>\n",
       "    </tr>\n",
       "  </thead>\n",
       "  <tbody>\n",
       "    <tr>\n",
       "      <th>double_[64; 64]_0.994</th>\n",
       "      <td>450</td>\n",
       "    </tr>\n",
       "    <tr>\n",
       "      <th>prio_[64; 64; 64]_0.995_0.0_0.1</th>\n",
       "      <td>483</td>\n",
       "    </tr>\n",
       "    <tr>\n",
       "      <th>simple_[32; 32; 32]_0.994</th>\n",
       "      <td>496</td>\n",
       "    </tr>\n",
       "    <tr>\n",
       "      <th>simple_[64; 64; 64]_0.994</th>\n",
       "      <td>505</td>\n",
       "    </tr>\n",
       "    <tr>\n",
       "      <th>simple_[64; 64]_0.994</th>\n",
       "      <td>506</td>\n",
       "    </tr>\n",
       "  </tbody>\n",
       "</table>\n",
       "</div>"
      ],
      "text/plain": [
       "                                 episode\n",
       "model                                   \n",
       "double_[64; 64]_0.994                450\n",
       "prio_[64; 64; 64]_0.995_0.0_0.1      483\n",
       "simple_[32; 32; 32]_0.994            496\n",
       "simple_[64; 64; 64]_0.994            505\n",
       "simple_[64; 64]_0.994                506"
      ]
     },
     "metadata": {},
     "output_type": "display_data"
    }
   ],
   "source": [
    "#print tops_df\n",
    "display(tops_df)"
   ]
  },
  {
   "cell_type": "code",
   "execution_count": 5,
   "metadata": {},
   "outputs": [
    {
     "data": {
      "text/html": [
       "<div>\n",
       "<style scoped>\n",
       "    .dataframe tbody tr th:only-of-type {\n",
       "        vertical-align: middle;\n",
       "    }\n",
       "\n",
       "    .dataframe tbody tr th {\n",
       "        vertical-align: top;\n",
       "    }\n",
       "\n",
       "    .dataframe thead th {\n",
       "        text-align: right;\n",
       "    }\n",
       "</style>\n",
       "<table border=\"1\" class=\"dataframe\">\n",
       "  <thead>\n",
       "    <tr style=\"text-align: right;\">\n",
       "      <th></th>\n",
       "      <th>double_[64; 64]_0.994</th>\n",
       "      <th>prio_[64; 64; 64]_0.995_0.0_0.1</th>\n",
       "      <th>simple_[32; 32; 32]_0.994</th>\n",
       "      <th>simple_[64; 64; 64]_0.994</th>\n",
       "      <th>simple_[64; 64]_0.994</th>\n",
       "    </tr>\n",
       "  </thead>\n",
       "  <tbody>\n",
       "    <tr>\n",
       "      <th>100</th>\n",
       "      <td>1.16</td>\n",
       "      <td>0.81</td>\n",
       "      <td>1.31</td>\n",
       "      <td>0.73</td>\n",
       "      <td>0.91</td>\n",
       "    </tr>\n",
       "    <tr>\n",
       "      <th>200</th>\n",
       "      <td>5.86</td>\n",
       "      <td>4.99</td>\n",
       "      <td>4.93</td>\n",
       "      <td>3.58</td>\n",
       "      <td>3.89</td>\n",
       "    </tr>\n",
       "    <tr>\n",
       "      <th>300</th>\n",
       "      <td>9.07</td>\n",
       "      <td>7.51</td>\n",
       "      <td>8.61</td>\n",
       "      <td>7.28</td>\n",
       "      <td>7.65</td>\n",
       "    </tr>\n",
       "    <tr>\n",
       "      <th>400</th>\n",
       "      <td>12.76</td>\n",
       "      <td>11.81</td>\n",
       "      <td>12.27</td>\n",
       "      <td>11.47</td>\n",
       "      <td>10.98</td>\n",
       "    </tr>\n",
       "    <tr>\n",
       "      <th>500</th>\n",
       "      <td>14.00</td>\n",
       "      <td>14.00</td>\n",
       "      <td>14.00</td>\n",
       "      <td>13.79</td>\n",
       "      <td>13.91</td>\n",
       "    </tr>\n",
       "    <tr>\n",
       "      <th>600</th>\n",
       "      <td>14.00</td>\n",
       "      <td>14.00</td>\n",
       "      <td>14.00</td>\n",
       "      <td>14.00</td>\n",
       "      <td>14.00</td>\n",
       "    </tr>\n",
       "    <tr>\n",
       "      <th>700</th>\n",
       "      <td>14.00</td>\n",
       "      <td>14.00</td>\n",
       "      <td>14.00</td>\n",
       "      <td>14.00</td>\n",
       "      <td>14.00</td>\n",
       "    </tr>\n",
       "    <tr>\n",
       "      <th>800</th>\n",
       "      <td>14.00</td>\n",
       "      <td>14.00</td>\n",
       "      <td>14.00</td>\n",
       "      <td>14.00</td>\n",
       "      <td>14.00</td>\n",
       "    </tr>\n",
       "    <tr>\n",
       "      <th>900</th>\n",
       "      <td>14.00</td>\n",
       "      <td>14.00</td>\n",
       "      <td>14.00</td>\n",
       "      <td>14.00</td>\n",
       "      <td>14.00</td>\n",
       "    </tr>\n",
       "    <tr>\n",
       "      <th>1000</th>\n",
       "      <td>14.00</td>\n",
       "      <td>14.00</td>\n",
       "      <td>14.00</td>\n",
       "      <td>14.00</td>\n",
       "      <td>14.00</td>\n",
       "    </tr>\n",
       "  </tbody>\n",
       "</table>\n",
       "</div>"
      ],
      "text/plain": [
       "      double_[64; 64]_0.994  prio_[64; 64; 64]_0.995_0.0_0.1  \\\n",
       "100                    1.16                             0.81   \n",
       "200                    5.86                             4.99   \n",
       "300                    9.07                             7.51   \n",
       "400                   12.76                            11.81   \n",
       "500                   14.00                            14.00   \n",
       "600                   14.00                            14.00   \n",
       "700                   14.00                            14.00   \n",
       "800                   14.00                            14.00   \n",
       "900                   14.00                            14.00   \n",
       "1000                  14.00                            14.00   \n",
       "\n",
       "      simple_[32; 32; 32]_0.994  simple_[64; 64; 64]_0.994  \\\n",
       "100                        1.31                       0.73   \n",
       "200                        4.93                       3.58   \n",
       "300                        8.61                       7.28   \n",
       "400                       12.27                      11.47   \n",
       "500                       14.00                      13.79   \n",
       "600                       14.00                      14.00   \n",
       "700                       14.00                      14.00   \n",
       "800                       14.00                      14.00   \n",
       "900                       14.00                      14.00   \n",
       "1000                      14.00                      14.00   \n",
       "\n",
       "      simple_[64; 64]_0.994  \n",
       "100                    0.91  \n",
       "200                    3.89  \n",
       "300                    7.65  \n",
       "400                   10.98  \n",
       "500                   13.91  \n",
       "600                   14.00  \n",
       "700                   14.00  \n",
       "800                   14.00  \n",
       "900                   14.00  \n",
       "1000                  14.00  "
      ]
     },
     "execution_count": 5,
     "metadata": {},
     "output_type": "execute_result"
    },
    {
     "data": {
      "image/png": "[encoded data removed]",
      "text/plain": [
       "<Figure size 1080x360 with 1 Axes>"
      ]
     },
     "metadata": {
      "needs_background": "light"
     },
     "output_type": "display_data"
    }
   ],
   "source": [
    "#Plot fastest models\n",
    "results_analysis.plot_results(results_df, tops_df.index, results_type='train')"
   ]
  },
  {
   "cell_type": "markdown",
   "metadata": {},
   "source": [
    "### 2.2. Per model type training results (simple, double, prio) "
   ]
  },
  {
   "cell_type": "code",
   "execution_count": 6,
   "metadata": {},
   "outputs": [
    {
     "data": {
      "text/html": [
       "<div>\n",
       "<style scoped>\n",
       "    .dataframe tbody tr th:only-of-type {\n",
       "        vertical-align: middle;\n",
       "    }\n",
       "\n",
       "    .dataframe tbody tr th {\n",
       "        vertical-align: top;\n",
       "    }\n",
       "\n",
       "    .dataframe thead th {\n",
       "        text-align: right;\n",
       "    }\n",
       "</style>\n",
       "<table border=\"1\" class=\"dataframe\">\n",
       "  <thead>\n",
       "    <tr style=\"text-align: right;\">\n",
       "      <th></th>\n",
       "      <th>double</th>\n",
       "      <th>prio</th>\n",
       "      <th>simple</th>\n",
       "    </tr>\n",
       "  </thead>\n",
       "  <tbody>\n",
       "    <tr>\n",
       "      <th>100</th>\n",
       "      <td>0.627500</td>\n",
       "      <td>0.616300</td>\n",
       "      <td>0.586250</td>\n",
       "    </tr>\n",
       "    <tr>\n",
       "      <th>200</th>\n",
       "      <td>3.620625</td>\n",
       "      <td>3.230300</td>\n",
       "      <td>3.319375</td>\n",
       "    </tr>\n",
       "    <tr>\n",
       "      <th>300</th>\n",
       "      <td>6.575625</td>\n",
       "      <td>6.450900</td>\n",
       "      <td>6.395000</td>\n",
       "    </tr>\n",
       "    <tr>\n",
       "      <th>400</th>\n",
       "      <td>9.315625</td>\n",
       "      <td>9.394400</td>\n",
       "      <td>9.507500</td>\n",
       "    </tr>\n",
       "    <tr>\n",
       "      <th>500</th>\n",
       "      <td>11.781250</td>\n",
       "      <td>12.098700</td>\n",
       "      <td>11.875000</td>\n",
       "    </tr>\n",
       "    <tr>\n",
       "      <th>600</th>\n",
       "      <td>12.980000</td>\n",
       "      <td>13.656832</td>\n",
       "      <td>13.206250</td>\n",
       "    </tr>\n",
       "    <tr>\n",
       "      <th>700</th>\n",
       "      <td>13.711250</td>\n",
       "      <td>13.987900</td>\n",
       "      <td>13.650000</td>\n",
       "    </tr>\n",
       "    <tr>\n",
       "      <th>800</th>\n",
       "      <td>13.905000</td>\n",
       "      <td>14.000000</td>\n",
       "      <td>13.903125</td>\n",
       "    </tr>\n",
       "    <tr>\n",
       "      <th>900</th>\n",
       "      <td>14.000000</td>\n",
       "      <td>14.000000</td>\n",
       "      <td>14.000000</td>\n",
       "    </tr>\n",
       "    <tr>\n",
       "      <th>1000</th>\n",
       "      <td>14.000000</td>\n",
       "      <td>14.000000</td>\n",
       "      <td>14.000000</td>\n",
       "    </tr>\n",
       "  </tbody>\n",
       "</table>\n",
       "</div>"
      ],
      "text/plain": [
       "         double       prio     simple\n",
       "100    0.627500   0.616300   0.586250\n",
       "200    3.620625   3.230300   3.319375\n",
       "300    6.575625   6.450900   6.395000\n",
       "400    9.315625   9.394400   9.507500\n",
       "500   11.781250  12.098700  11.875000\n",
       "600   12.980000  13.656832  13.206250\n",
       "700   13.711250  13.987900  13.650000\n",
       "800   13.905000  14.000000  13.903125\n",
       "900   14.000000  14.000000  14.000000\n",
       "1000  14.000000  14.000000  14.000000"
      ]
     },
     "execution_count": 6,
     "metadata": {},
     "output_type": "execute_result"
    },
    {
     "data": {
      "image/png": "[encoded data removed]",
      "text/plain": [
       "<Figure size 1080x360 with 1 Axes>"
      ]
     },
     "metadata": {
      "needs_background": "light"
     },
     "output_type": "display_data"
    }
   ],
   "source": [
    "results_analysis.plot_results_per_model_type(results_df, results_type='train')"
   ]
  },
  {
   "cell_type": "markdown",
   "metadata": {},
   "source": [
    "## 3. Test results"
   ]
  },
  {
   "cell_type": "code",
   "execution_count": 7,
   "metadata": {},
   "outputs": [],
   "source": [
    "#Get results from 'test_results.csv'\n",
    "#results_df: full dataframe of results\n",
    "#solved_df: nb of episodes to reach more than 13 reward in testing_phase\n",
    "#tops_df: highest score models during testing phase (in average over 10 episodes)\n",
    "results_df, solved_df, tops_df = results_analysis.get_test_tesults_df(results_file='test_results.csv', tops_nb=5)"
   ]
  },
  {
   "cell_type": "markdown",
   "metadata": {},
   "source": [
    "### 3.1 Best test models"
   ]
  },
  {
   "cell_type": "code",
   "execution_count": 8,
   "metadata": {},
   "outputs": [
    {
     "data": {
      "text/html": [
       "<div>\n",
       "<style scoped>\n",
       "    .dataframe tbody tr th:only-of-type {\n",
       "        vertical-align: middle;\n",
       "    }\n",
       "\n",
       "    .dataframe tbody tr th {\n",
       "        vertical-align: top;\n",
       "    }\n",
       "\n",
       "    .dataframe thead th {\n",
       "        text-align: right;\n",
       "    }\n",
       "</style>\n",
       "<table border=\"1\" class=\"dataframe\">\n",
       "  <thead>\n",
       "    <tr style=\"text-align: right;\">\n",
       "      <th></th>\n",
       "      <th>score</th>\n",
       "    </tr>\n",
       "    <tr>\n",
       "      <th>model</th>\n",
       "      <th></th>\n",
       "    </tr>\n",
       "  </thead>\n",
       "  <tbody>\n",
       "    <tr>\n",
       "      <th>prio_[64; 64; 64]_0.995_0.5_0.6</th>\n",
       "      <td>19.0</td>\n",
       "    </tr>\n",
       "    <tr>\n",
       "      <th>simple_[64; 64; 64]_0.994</th>\n",
       "      <td>19.0</td>\n",
       "    </tr>\n",
       "    <tr>\n",
       "      <th>simple_[64; 64; 64]_0.996</th>\n",
       "      <td>18.5</td>\n",
       "    </tr>\n",
       "    <tr>\n",
       "      <th>prio_[64; 64; 64]_0.995_0.3_0.5</th>\n",
       "      <td>17.9</td>\n",
       "    </tr>\n",
       "    <tr>\n",
       "      <th>simple_[64; 64]_0.997</th>\n",
       "      <td>17.7</td>\n",
       "    </tr>\n",
       "  </tbody>\n",
       "</table>\n",
       "</div>"
      ],
      "text/plain": [
       "                                 score\n",
       "model                                 \n",
       "prio_[64; 64; 64]_0.995_0.5_0.6   19.0\n",
       "simple_[64; 64; 64]_0.994         19.0\n",
       "simple_[64; 64; 64]_0.996         18.5\n",
       "prio_[64; 64; 64]_0.995_0.3_0.5   17.9\n",
       "simple_[64; 64]_0.997             17.7"
      ]
     },
     "metadata": {},
     "output_type": "display_data"
    }
   ],
   "source": [
    "#print tops_df\n",
    "display(tops_df)"
   ]
  },
  {
   "cell_type": "code",
   "execution_count": 10,
   "metadata": {},
   "outputs": [
    {
     "data": {
      "text/html": [
       "<div>\n",
       "<style scoped>\n",
       "    .dataframe tbody tr th:only-of-type {\n",
       "        vertical-align: middle;\n",
       "    }\n",
       "\n",
       "    .dataframe tbody tr th {\n",
       "        vertical-align: top;\n",
       "    }\n",
       "\n",
       "    .dataframe thead th {\n",
       "        text-align: right;\n",
       "    }\n",
       "</style>\n",
       "<table border=\"1\" class=\"dataframe\">\n",
       "  <thead>\n",
       "    <tr style=\"text-align: right;\">\n",
       "      <th></th>\n",
       "      <th>1</th>\n",
       "      <th>2</th>\n",
       "      <th>3</th>\n",
       "      <th>4</th>\n",
       "      <th>5</th>\n",
       "      <th>6</th>\n",
       "      <th>7</th>\n",
       "      <th>8</th>\n",
       "      <th>9</th>\n",
       "      <th>10</th>\n",
       "    </tr>\n",
       "    <tr>\n",
       "      <th>model</th>\n",
       "      <th></th>\n",
       "      <th></th>\n",
       "      <th></th>\n",
       "      <th></th>\n",
       "      <th></th>\n",
       "      <th></th>\n",
       "      <th></th>\n",
       "      <th></th>\n",
       "      <th></th>\n",
       "      <th></th>\n",
       "    </tr>\n",
       "  </thead>\n",
       "  <tbody>\n",
       "    <tr>\n",
       "      <th>prio_[64; 64; 64]_0.995_0.5_0.6</th>\n",
       "      <td>19.0</td>\n",
       "      <td>20.0</td>\n",
       "      <td>17.0</td>\n",
       "      <td>23.0</td>\n",
       "      <td>17.0</td>\n",
       "      <td>19.0</td>\n",
       "      <td>21.0</td>\n",
       "      <td>15.0</td>\n",
       "      <td>23.0</td>\n",
       "      <td>16.0</td>\n",
       "    </tr>\n",
       "    <tr>\n",
       "      <th>simple_[64; 64; 64]_0.994</th>\n",
       "      <td>22.0</td>\n",
       "      <td>20.0</td>\n",
       "      <td>19.0</td>\n",
       "      <td>16.0</td>\n",
       "      <td>20.0</td>\n",
       "      <td>15.0</td>\n",
       "      <td>16.0</td>\n",
       "      <td>20.0</td>\n",
       "      <td>24.0</td>\n",
       "      <td>18.0</td>\n",
       "    </tr>\n",
       "    <tr>\n",
       "      <th>simple_[64; 64; 64]_0.996</th>\n",
       "      <td>15.0</td>\n",
       "      <td>19.0</td>\n",
       "      <td>25.0</td>\n",
       "      <td>19.0</td>\n",
       "      <td>16.0</td>\n",
       "      <td>20.0</td>\n",
       "      <td>15.0</td>\n",
       "      <td>14.0</td>\n",
       "      <td>20.0</td>\n",
       "      <td>22.0</td>\n",
       "    </tr>\n",
       "    <tr>\n",
       "      <th>prio_[64; 64; 64]_0.995_0.3_0.5</th>\n",
       "      <td>18.0</td>\n",
       "      <td>18.0</td>\n",
       "      <td>16.0</td>\n",
       "      <td>17.0</td>\n",
       "      <td>15.0</td>\n",
       "      <td>19.0</td>\n",
       "      <td>19.0</td>\n",
       "      <td>18.0</td>\n",
       "      <td>18.0</td>\n",
       "      <td>21.0</td>\n",
       "    </tr>\n",
       "    <tr>\n",
       "      <th>simple_[64; 64]_0.997</th>\n",
       "      <td>23.0</td>\n",
       "      <td>21.0</td>\n",
       "      <td>19.0</td>\n",
       "      <td>17.0</td>\n",
       "      <td>18.0</td>\n",
       "      <td>17.0</td>\n",
       "      <td>6.0</td>\n",
       "      <td>20.0</td>\n",
       "      <td>17.0</td>\n",
       "      <td>19.0</td>\n",
       "    </tr>\n",
       "  </tbody>\n",
       "</table>\n",
       "</div>"
      ],
      "text/plain": [
       "                                   1     2     3     4     5     6     7   \\\n",
       "model                                                                       \n",
       "prio_[64; 64; 64]_0.995_0.5_0.6  19.0  20.0  17.0  23.0  17.0  19.0  21.0   \n",
       "simple_[64; 64; 64]_0.994        22.0  20.0  19.0  16.0  20.0  15.0  16.0   \n",
       "simple_[64; 64; 64]_0.996        15.0  19.0  25.0  19.0  16.0  20.0  15.0   \n",
       "prio_[64; 64; 64]_0.995_0.3_0.5  18.0  18.0  16.0  17.0  15.0  19.0  19.0   \n",
       "simple_[64; 64]_0.997            23.0  21.0  19.0  17.0  18.0  17.0   6.0   \n",
       "\n",
       "                                   8     9     10  \n",
       "model                                              \n",
       "prio_[64; 64; 64]_0.995_0.5_0.6  15.0  23.0  16.0  \n",
       "simple_[64; 64; 64]_0.994        20.0  24.0  18.0  \n",
       "simple_[64; 64; 64]_0.996        14.0  20.0  22.0  \n",
       "prio_[64; 64; 64]_0.995_0.3_0.5  18.0  18.0  21.0  \n",
       "simple_[64; 64]_0.997            20.0  17.0  19.0  "
      ]
     },
     "execution_count": 10,
     "metadata": {},
     "output_type": "execute_result"
    },
    {
     "data": {
      "image/png": "[encoded data removed]",
      "text/plain": [
       "<Figure size 1080x360 with 1 Axes>"
      ]
     },
     "metadata": {
      "needs_background": "light"
     },
     "output_type": "display_data"
    }
   ],
   "source": [
    "#Plot fastest models\n",
    "results_analysis.plot_results_transpose(results_df, tops_df.index, results_type='test')"
   ]
  },
  {
   "cell_type": "markdown",
   "metadata": {},
   "source": [
    "### 3.2. Per model type test results (simple, double, prio) "
   ]
  },
  {
   "cell_type": "code",
   "execution_count": 11,
   "metadata": {},
   "outputs": [
    {
     "data": {
      "text/html": [
       "<div>\n",
       "<style scoped>\n",
       "    .dataframe tbody tr th:only-of-type {\n",
       "        vertical-align: middle;\n",
       "    }\n",
       "\n",
       "    .dataframe tbody tr th {\n",
       "        vertical-align: top;\n",
       "    }\n",
       "\n",
       "    .dataframe thead th {\n",
       "        text-align: right;\n",
       "    }\n",
       "</style>\n",
       "<table border=\"1\" class=\"dataframe\">\n",
       "  <thead>\n",
       "    <tr style=\"text-align: right;\">\n",
       "      <th></th>\n",
       "      <th>1</th>\n",
       "      <th>2</th>\n",
       "      <th>3</th>\n",
       "      <th>4</th>\n",
       "      <th>5</th>\n",
       "      <th>6</th>\n",
       "      <th>7</th>\n",
       "      <th>8</th>\n",
       "      <th>9</th>\n",
       "      <th>10</th>\n",
       "    </tr>\n",
       "  </thead>\n",
       "  <tbody>\n",
       "    <tr>\n",
       "      <th>simple</th>\n",
       "      <td>13.3125</td>\n",
       "      <td>11.5625</td>\n",
       "      <td>15.125</td>\n",
       "      <td>13.6875</td>\n",
       "      <td>14.5625</td>\n",
       "      <td>14.375</td>\n",
       "      <td>12.0625</td>\n",
       "      <td>12.9375</td>\n",
       "      <td>13.375</td>\n",
       "      <td>12.125</td>\n",
       "    </tr>\n",
       "    <tr>\n",
       "      <th>double</th>\n",
       "      <td>14.1250</td>\n",
       "      <td>14.1250</td>\n",
       "      <td>15.250</td>\n",
       "      <td>14.8125</td>\n",
       "      <td>13.5625</td>\n",
       "      <td>13.625</td>\n",
       "      <td>11.5000</td>\n",
       "      <td>13.1875</td>\n",
       "      <td>12.625</td>\n",
       "      <td>12.625</td>\n",
       "    </tr>\n",
       "    <tr>\n",
       "      <th>prio</th>\n",
       "      <td>14.5400</td>\n",
       "      <td>14.6300</td>\n",
       "      <td>12.850</td>\n",
       "      <td>13.8700</td>\n",
       "      <td>13.8000</td>\n",
       "      <td>12.920</td>\n",
       "      <td>14.0400</td>\n",
       "      <td>13.5700</td>\n",
       "      <td>14.210</td>\n",
       "      <td>13.440</td>\n",
       "    </tr>\n",
       "  </tbody>\n",
       "</table>\n",
       "</div>"
      ],
      "text/plain": [
       "             1        2       3        4        5       6        7        8   \\\n",
       "simple  13.3125  11.5625  15.125  13.6875  14.5625  14.375  12.0625  12.9375   \n",
       "double  14.1250  14.1250  15.250  14.8125  13.5625  13.625  11.5000  13.1875   \n",
       "prio    14.5400  14.6300  12.850  13.8700  13.8000  12.920  14.0400  13.5700   \n",
       "\n",
       "            9       10  \n",
       "simple  13.375  12.125  \n",
       "double  12.625  12.625  \n",
       "prio    14.210  13.440  "
      ]
     },
     "execution_count": 11,
     "metadata": {},
     "output_type": "execute_result"
    },
    {
     "data": {
      "image/png": "[encoded data removed]",
      "text/plain": [
       "<Figure size 1080x360 with 1 Axes>"
      ]
     },
     "metadata": {
      "needs_background": "light"
     },
     "output_type": "display_data"
    }
   ],
   "source": [
    "results_analysis.plot_results_per_model_type_transpose(results_df, results_type='test')"
   ]
  },
  {
   "cell_type": "markdown",
   "metadata": {},
   "source": [
    "## 4. Conclusion\n",
    "All models perform comparably but it seems like the priority sampling models perform slightly better than the rest, both in terms of training speed and test results.\n",
    "I then decided to select the \"prio_[64; 64; 64]_0.995_0.5_0.6\" model as it was the best on the test set and it trained raisonably fast in 610 episodes"
   ]
  },
  {
   "cell_type": "code",
   "execution_count": 1,
   "metadata": {},
   "outputs": [
    {
     "name": "stdout",
     "output_type": "stream",
     "text": [
      "C:\\Users\\Julien\\Programming\\UdacityRL\n"
     ]
    }
   ],
   "source": [
    "import os \n",
    "import results_analysis\n",
    "\n",
    "#You need to be at the root directory of the repo to run the model in the next cell\n",
    "os.chdir('..')\n",
    "print(os.getcwd())\n",
    "selected_model = 'prio_[64; 64; 64]_0.995_0.5_0.6'"
   ]
  },
  {
   "cell_type": "markdown",
   "metadata": {},
   "source": [
    "### 4.1 Selected model training"
   ]
  },
  {
   "cell_type": "code",
   "execution_count": 2,
   "metadata": {},
   "outputs": [
    {
     "data": {
      "text/plain": [
       "episode    610\n",
       "Name: prio_[64; 64; 64]_0.995_0.5_0.6, dtype: int64"
      ]
     },
     "metadata": {},
     "output_type": "display_data"
    }
   ],
   "source": [
    "#The selected model was trained in 610 episodes (reached a score of 14 over the last 100 episodes)\n",
    "results_df, solved_df, tops_df = results_analysis.get_training_results_df(results_file='./Results/train_results.csv', tops_nb=5)\n",
    "display(solved_df.loc[selected_model])"
   ]
  },
  {
   "cell_type": "markdown",
   "metadata": {},
   "source": [
    "### 4.2 Selected model test run"
   ]
  },
  {
   "cell_type": "code",
   "execution_count": 3,
   "metadata": {},
   "outputs": [
    {
     "name": "stderr",
     "output_type": "stream",
     "text": [
      "INFO:unityagents:\n",
      "'Academy' started successfully!\n",
      "Unity Academy name: Academy\n",
      "        Number of Brains: 1\n",
      "        Number of External Brains : 1\n",
      "        Lesson number : 0\n",
      "        Reset Parameters :\n",
      "\t\t\n",
      "Unity brain name: BananaBrain\n",
      "        Number of Visual Observations (per agent): 0\n",
      "        Vector Observation space type: continuous\n",
      "        Vector Observation space size (per agent): 37\n",
      "        Number of stacked Vector Observation: 1\n",
      "        Vector Action space type: discrete\n",
      "        Vector Action space size (per agent): 4\n",
      "        Vector Action descriptions: , , , \n"
     ]
    },
    {
     "name": "stdout",
     "output_type": "stream",
     "text": [
      "Create NN with layers: [(37, 64), (64, 64), (64, 64), (64, 4)]\n",
      "Create NN with layers: [(37, 64), (64, 64), (64, 64), (64, 4)]\n",
      "Load model weights ./ModelWeights/prio_[64, 64, 64]_0.995_0.5_0.6.pth\n",
      "Score: 16.0"
     ]
    }
   ],
   "source": [
    "#If you get the \"handle is closed\" error, you need to restart your kernel and execute from the Conclusion first cell; \n",
    "#I don't know how to fix that\n",
    "%run -i navigation.py test --test_params=best_params.json --test_model=\"auto\" --test_results_path=''"
   ]
  },
  {
   "cell_type": "code",
   "execution_count": null,
   "metadata": {},
   "outputs": [],
   "source": []
  }
 ],
 "metadata": {
  "kernelspec": {
   "display_name": "Python 3",
   "language": "python",
   "name": "python3"
  },
  "language_info": {
   "codemirror_mode": {
    "name": "ipython",
    "version": 3
   },
   "file_extension": ".py",
   "mimetype": "text/x-python",
   "name": "python",
   "nbconvert_exporter": "python",
   "pygments_lexer": "ipython3",
   "version": "3.6.9"
  }
 },
 "nbformat": 4,
 "nbformat_minor": 2
}
